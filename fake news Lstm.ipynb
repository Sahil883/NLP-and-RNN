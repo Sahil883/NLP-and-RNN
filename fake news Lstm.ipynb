{
 "cells": [
  {
   "cell_type": "code",
   "execution_count": 1,
   "id": "willing-turning",
   "metadata": {},
   "outputs": [],
   "source": [
    "import pandas as pd\n",
    "import numpy as np"
   ]
  },
  {
   "cell_type": "code",
   "execution_count": 2,
   "id": "least-white",
   "metadata": {},
   "outputs": [],
   "source": [
    "df=pd.read_csv(\"C:\\\\Users\\\\SAHIL SHINGNE\\\\Desktop\\\\news_articles.csv\")"
   ]
  },
  {
   "cell_type": "code",
   "execution_count": 3,
   "id": "empty-elevation",
   "metadata": {},
   "outputs": [
    {
     "data": {
      "text/html": [
       "<div>\n",
       "<style scoped>\n",
       "    .dataframe tbody tr th:only-of-type {\n",
       "        vertical-align: middle;\n",
       "    }\n",
       "\n",
       "    .dataframe tbody tr th {\n",
       "        vertical-align: top;\n",
       "    }\n",
       "\n",
       "    .dataframe thead th {\n",
       "        text-align: right;\n",
       "    }\n",
       "</style>\n",
       "<table border=\"1\" class=\"dataframe\">\n",
       "  <thead>\n",
       "    <tr style=\"text-align: right;\">\n",
       "      <th></th>\n",
       "      <th>author</th>\n",
       "      <th>published</th>\n",
       "      <th>title</th>\n",
       "      <th>text</th>\n",
       "      <th>language</th>\n",
       "      <th>site_url</th>\n",
       "      <th>main_img_url</th>\n",
       "      <th>type</th>\n",
       "      <th>label</th>\n",
       "      <th>title_without_stopwords</th>\n",
       "      <th>text_without_stopwords</th>\n",
       "      <th>hasImage</th>\n",
       "    </tr>\n",
       "  </thead>\n",
       "  <tbody>\n",
       "    <tr>\n",
       "      <th>0</th>\n",
       "      <td>Barracuda Brigade</td>\n",
       "      <td>2016-10-26T21:41:00.000+03:00</td>\n",
       "      <td>muslims busted they stole millions in govt ben...</td>\n",
       "      <td>print they should pay all the back all the mon...</td>\n",
       "      <td>english</td>\n",
       "      <td>100percentfedup.com</td>\n",
       "      <td>http://bb4sp.com/wp-content/uploads/2016/10/Fu...</td>\n",
       "      <td>bias</td>\n",
       "      <td>1.0</td>\n",
       "      <td>muslims busted stole millions govt benefits</td>\n",
       "      <td>print pay back money plus interest entire fami...</td>\n",
       "      <td>1.0</td>\n",
       "    </tr>\n",
       "    <tr>\n",
       "      <th>1</th>\n",
       "      <td>reasoning with facts</td>\n",
       "      <td>2016-10-29T08:47:11.259+03:00</td>\n",
       "      <td>re why did attorney general loretta lynch plea...</td>\n",
       "      <td>why did attorney general loretta lynch plead t...</td>\n",
       "      <td>english</td>\n",
       "      <td>100percentfedup.com</td>\n",
       "      <td>http://bb4sp.com/wp-content/uploads/2016/10/Fu...</td>\n",
       "      <td>bias</td>\n",
       "      <td>1.0</td>\n",
       "      <td>attorney general loretta lynch plead fifth</td>\n",
       "      <td>attorney general loretta lynch plead fifth bar...</td>\n",
       "      <td>1.0</td>\n",
       "    </tr>\n",
       "  </tbody>\n",
       "</table>\n",
       "</div>"
      ],
      "text/plain": [
       "                 author                      published  \\\n",
       "0     Barracuda Brigade  2016-10-26T21:41:00.000+03:00   \n",
       "1  reasoning with facts  2016-10-29T08:47:11.259+03:00   \n",
       "\n",
       "                                               title  \\\n",
       "0  muslims busted they stole millions in govt ben...   \n",
       "1  re why did attorney general loretta lynch plea...   \n",
       "\n",
       "                                                text language  \\\n",
       "0  print they should pay all the back all the mon...  english   \n",
       "1  why did attorney general loretta lynch plead t...  english   \n",
       "\n",
       "              site_url                                       main_img_url  \\\n",
       "0  100percentfedup.com  http://bb4sp.com/wp-content/uploads/2016/10/Fu...   \n",
       "1  100percentfedup.com  http://bb4sp.com/wp-content/uploads/2016/10/Fu...   \n",
       "\n",
       "   type  label                      title_without_stopwords  \\\n",
       "0  bias    1.0  muslims busted stole millions govt benefits   \n",
       "1  bias    1.0   attorney general loretta lynch plead fifth   \n",
       "\n",
       "                              text_without_stopwords  hasImage  \n",
       "0  print pay back money plus interest entire fami...       1.0  \n",
       "1  attorney general loretta lynch plead fifth bar...       1.0  "
      ]
     },
     "execution_count": 3,
     "metadata": {},
     "output_type": "execute_result"
    }
   ],
   "source": [
    "df.head(2)"
   ]
  },
  {
   "cell_type": "code",
   "execution_count": 4,
   "id": "lonely-expense",
   "metadata": {},
   "outputs": [],
   "source": [
    "df.dropna(inplace=True)\n",
    "df.reset_index(inplace=True)"
   ]
  },
  {
   "cell_type": "code",
   "execution_count": 5,
   "id": "female-compromise",
   "metadata": {},
   "outputs": [],
   "source": [
    "x=df.drop([\"label\",\"site_url\",\"main_img_url\",\"index\",\"title\",\"text\"],axis=1).copy()\n",
    "y=df[\"label\"].copy()"
   ]
  },
  {
   "cell_type": "code",
   "execution_count": 6,
   "id": "beginning-works",
   "metadata": {},
   "outputs": [],
   "source": [
    "x[\"combine\"]=x[\"author\"]+x[\"language\"]+x[\"type\"]+x[\"title_without_stopwords\"]+x[\"text_without_stopwords\"]+str(x[\"hasImage\"])"
   ]
  },
  {
   "cell_type": "code",
   "execution_count": 7,
   "id": "personal-restoration",
   "metadata": {},
   "outputs": [],
   "source": [
    "x_f=x.drop([\"author\",\"published\",\"language\",\"type\",\"title_without_stopwords\",\"text_without_stopwords\",\"hasImage\"],axis=1)"
   ]
  },
  {
   "cell_type": "code",
   "execution_count": 8,
   "id": "previous-carnival",
   "metadata": {},
   "outputs": [
    {
     "data": {
      "text/html": [
       "<div>\n",
       "<style scoped>\n",
       "    .dataframe tbody tr th:only-of-type {\n",
       "        vertical-align: middle;\n",
       "    }\n",
       "\n",
       "    .dataframe tbody tr th {\n",
       "        vertical-align: top;\n",
       "    }\n",
       "\n",
       "    .dataframe thead th {\n",
       "        text-align: right;\n",
       "    }\n",
       "</style>\n",
       "<table border=\"1\" class=\"dataframe\">\n",
       "  <thead>\n",
       "    <tr style=\"text-align: right;\">\n",
       "      <th></th>\n",
       "      <th>combine</th>\n",
       "    </tr>\n",
       "  </thead>\n",
       "  <tbody>\n",
       "    <tr>\n",
       "      <th>0</th>\n",
       "      <td>Barracuda Brigadeenglishbiasmuslims busted sto...</td>\n",
       "    </tr>\n",
       "    <tr>\n",
       "      <th>1</th>\n",
       "      <td>reasoning with factsenglishbiasattorney genera...</td>\n",
       "    </tr>\n",
       "    <tr>\n",
       "      <th>2</th>\n",
       "      <td>Barracuda Brigadeenglishbiasbreaking weiner co...</td>\n",
       "    </tr>\n",
       "    <tr>\n",
       "      <th>3</th>\n",
       "      <td>Fed Upenglishbiaspin drop speech father daught...</td>\n",
       "    </tr>\n",
       "    <tr>\n",
       "      <th>4</th>\n",
       "      <td>Fed Upenglishbiasfantastic trumps point plan r...</td>\n",
       "    </tr>\n",
       "    <tr>\n",
       "      <th>...</th>\n",
       "      <td>...</td>\n",
       "    </tr>\n",
       "    <tr>\n",
       "      <th>2039</th>\n",
       "      <td>Matt Barberenglishbiastrump vs clinton risk vs...</td>\n",
       "    </tr>\n",
       "    <tr>\n",
       "      <th>2040</th>\n",
       "      <td>Jane Chastainenglishbiasgingrich slutshames me...</td>\n",
       "    </tr>\n",
       "    <tr>\n",
       "      <th>2041</th>\n",
       "      <td>Michael Brownenglishbiasyoutube bans clintons ...</td>\n",
       "    </tr>\n",
       "    <tr>\n",
       "      <th>2042</th>\n",
       "      <td>Ann Coulterenglishbiaswikileaks bombshells hil...</td>\n",
       "    </tr>\n",
       "    <tr>\n",
       "      <th>2043</th>\n",
       "      <td>Larry Elderenglishbiasfascinated sexbillion ev...</td>\n",
       "    </tr>\n",
       "  </tbody>\n",
       "</table>\n",
       "<p>2044 rows × 1 columns</p>\n",
       "</div>"
      ],
      "text/plain": [
       "                                                combine\n",
       "0     Barracuda Brigadeenglishbiasmuslims busted sto...\n",
       "1     reasoning with factsenglishbiasattorney genera...\n",
       "2     Barracuda Brigadeenglishbiasbreaking weiner co...\n",
       "3     Fed Upenglishbiaspin drop speech father daught...\n",
       "4     Fed Upenglishbiasfantastic trumps point plan r...\n",
       "...                                                 ...\n",
       "2039  Matt Barberenglishbiastrump vs clinton risk vs...\n",
       "2040  Jane Chastainenglishbiasgingrich slutshames me...\n",
       "2041  Michael Brownenglishbiasyoutube bans clintons ...\n",
       "2042  Ann Coulterenglishbiaswikileaks bombshells hil...\n",
       "2043  Larry Elderenglishbiasfascinated sexbillion ev...\n",
       "\n",
       "[2044 rows x 1 columns]"
      ]
     },
     "execution_count": 8,
     "metadata": {},
     "output_type": "execute_result"
    }
   ],
   "source": [
    "x_f"
   ]
  },
  {
   "cell_type": "code",
   "execution_count": 9,
   "id": "biblical-rendering",
   "metadata": {},
   "outputs": [],
   "source": [
    "corpus=list(x_f[\"combine\"])"
   ]
  },
  {
   "cell_type": "code",
   "execution_count": 10,
   "id": "subsequent-smoke",
   "metadata": {},
   "outputs": [],
   "source": [
    "from sklearn.model_selection import train_test_split\n",
    "x_train,x_test,y_train,y_test=train_test_split(corpus,y ,test_size=0.33,random_state=42)"
   ]
  },
  {
   "cell_type": "code",
   "execution_count": 11,
   "id": "offensive-holiday",
   "metadata": {},
   "outputs": [],
   "source": [
    "from tensorflow.keras.preprocessing.text import one_hot"
   ]
  },
  {
   "cell_type": "code",
   "execution_count": 12,
   "id": "reasonable-hurricane",
   "metadata": {},
   "outputs": [],
   "source": [
    "voc_size=5000"
   ]
  },
  {
   "cell_type": "code",
   "execution_count": 13,
   "id": "continuing-edgar",
   "metadata": {},
   "outputs": [],
   "source": [
    "rep_train=[one_hot(word,voc_size)for word in x_train]"
   ]
  },
  {
   "cell_type": "code",
   "execution_count": 14,
   "id": "subject-lunch",
   "metadata": {},
   "outputs": [
    {
     "name": "stdout",
     "output_type": "stream",
     "text": [
      "3055\n"
     ]
    }
   ],
   "source": [
    "l=[]\n",
    "for i in range(len(rep_train)):\n",
    "    l.append(len(rep_train[i]))\n",
    "maxlen=max(l)\n",
    "print(maxlen)\n",
    "    "
   ]
  },
  {
   "cell_type": "code",
   "execution_count": 15,
   "id": "applied-happening",
   "metadata": {},
   "outputs": [],
   "source": [
    "from tensorflow.keras.preprocessing.sequence import pad_sequences "
   ]
  },
  {
   "cell_type": "code",
   "execution_count": 16,
   "id": "religious-blame",
   "metadata": {},
   "outputs": [
    {
     "name": "stdout",
     "output_type": "stream",
     "text": [
      "[[   0    0    0 ... 3170  318 4031]\n",
      " [   0    0    0 ... 3170  318 4031]\n",
      " [   0    0    0 ... 3170  318 4031]\n",
      " ...\n",
      " [   0    0    0 ... 3170  318 4031]\n",
      " [   0    0    0 ... 3170  318 4031]\n",
      " [   0    0    0 ... 3170  318 4031]]\n"
     ]
    }
   ],
   "source": [
    "emd=pad_sequences(rep_train,padding=\"pre\",maxlen=maxlen)\n",
    "print(emd)"
   ]
  },
  {
   "cell_type": "code",
   "execution_count": 17,
   "id": "middle-surface",
   "metadata": {},
   "outputs": [],
   "source": [
    "from tensorflow.keras.layers import Embedding\n",
    "from tensorflow.keras.models import Sequential\n",
    "from tensorflow.keras.layers import LSTM\n",
    "from tensorflow.keras.layers import Dense"
   ]
  },
  {
   "cell_type": "code",
   "execution_count": 18,
   "id": "finite-presentation",
   "metadata": {},
   "outputs": [
    {
     "name": "stdout",
     "output_type": "stream",
     "text": [
      "Model: \"sequential\"\n",
      "_________________________________________________________________\n",
      "Layer (type)                 Output Shape              Param #   \n",
      "=================================================================\n",
      "embedding (Embedding)        (None, None, 50)          250000    \n",
      "_________________________________________________________________\n",
      "lstm (LSTM)                  (None, 100)               60400     \n",
      "_________________________________________________________________\n",
      "dense (Dense)                (None, 1)                 101       \n",
      "=================================================================\n",
      "Total params: 310,501\n",
      "Trainable params: 310,501\n",
      "Non-trainable params: 0\n",
      "_________________________________________________________________\n",
      "None\n"
     ]
    }
   ],
   "source": [
    "embedding_vector_features=50\n",
    "model=Sequential()\n",
    "model.add(Embedding(voc_size,embedding_vector_features))\n",
    "model.add(LSTM(100))\n",
    "model.add(Dense(1,activation='sigmoid'))\n",
    "model.compile(loss='binary_crossentropy',optimizer='adam',metrics=['accuracy'])\n",
    "print(model.summary())"
   ]
  },
  {
   "cell_type": "code",
   "execution_count": 19,
   "id": "absolute-application",
   "metadata": {},
   "outputs": [],
   "source": [
    "X_train=np.array(emd)\n",
    "Y_train=np.array(y_train)"
   ]
  },
  {
   "cell_type": "code",
   "execution_count": 20,
   "id": "quantitative-independence",
   "metadata": {},
   "outputs": [],
   "source": [
    "rep_t=[one_hot(word,voc_size)for word in x_test]"
   ]
  },
  {
   "cell_type": "code",
   "execution_count": 21,
   "id": "vital-string",
   "metadata": {},
   "outputs": [
    {
     "name": "stdout",
     "output_type": "stream",
     "text": [
      "3031\n"
     ]
    }
   ],
   "source": [
    "l1=[]\n",
    "for i in range(len(rep_t)):\n",
    "    l1.append(len(rep_t[i]))\n",
    "maxl=max(l1)\n",
    "print(maxl)"
   ]
  },
  {
   "cell_type": "code",
   "execution_count": 22,
   "id": "designed-sheffield",
   "metadata": {},
   "outputs": [
    {
     "name": "stdout",
     "output_type": "stream",
     "text": [
      "[[   0    0    0 ... 3170  318 4031]\n",
      " [   0    0    0 ... 3170  318 4031]\n",
      " [   0    0    0 ... 3170  318 4031]\n",
      " ...\n",
      " [   0    0    0 ... 3170  318 4031]\n",
      " [   0    0    0 ... 3170  318 4031]\n",
      " [   0    0    0 ... 3170  318 4031]]\n"
     ]
    }
   ],
   "source": [
    "emd1=pad_sequences(rep_t,padding=\"pre\",maxlen=maxl)\n",
    "print(emd1)"
   ]
  },
  {
   "cell_type": "code",
   "execution_count": 23,
   "id": "turned-interpretation",
   "metadata": {},
   "outputs": [],
   "source": [
    "X_test=np.array(emd1)\n",
    "Y_test=np.array(y_test)"
   ]
  },
  {
   "cell_type": "code",
   "execution_count": null,
   "id": "confidential-village",
   "metadata": {},
   "outputs": [
    {
     "name": "stdout",
     "output_type": "stream",
     "text": [
      "Epoch 1/10\n",
      "22/22 [==============================] - 1243s 57s/step - loss: 0.6705 - accuracy: 0.6187 - val_loss: 0.6434 - val_accuracy: 0.6578\n",
      "Epoch 2/10\n",
      "22/22 [==============================] - 2638s 120s/step - loss: 0.6655 - accuracy: 0.6187 - val_loss: 0.6510 - val_accuracy: 0.6578\n",
      "Epoch 3/10\n",
      "22/22 [==============================] - 7672s 349s/step - loss: 0.6672 - accuracy: 0.6187 - val_loss: 0.6460 - val_accuracy: 0.6578\n",
      "Epoch 4/10\n",
      "22/22 [==============================] - 50049s 2275s/step - loss: 0.6701 - accuracy: 0.6187 - val_loss: 0.6450 - val_accuracy: 0.6578\n",
      "Epoch 5/10\n",
      "11/22 [==============>...............] - ETA: 14:02 - loss: 0.6726 - accuracy: 0.6023"
     ]
    }
   ],
   "source": [
    "model.fit(X_train,Y_train,validation_data=(X_test,Y_test),epochs=10,batch_size=64)"
   ]
  },
  {
   "cell_type": "code",
   "execution_count": null,
   "id": "familiar-error",
   "metadata": {},
   "outputs": [],
   "source": []
  }
 ],
 "metadata": {
  "kernelspec": {
   "display_name": "Python 3",
   "language": "python",
   "name": "python3"
  },
  "language_info": {
   "codemirror_mode": {
    "name": "ipython",
    "version": 3
   },
   "file_extension": ".py",
   "mimetype": "text/x-python",
   "name": "python",
   "nbconvert_exporter": "python",
   "pygments_lexer": "ipython3",
   "version": "3.8.8"
  }
 },
 "nbformat": 4,
 "nbformat_minor": 5
}
